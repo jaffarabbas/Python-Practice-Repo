{
 "cells": [
  {
   "cell_type": "code",
   "execution_count": null,
   "metadata": {},
   "outputs": [
    {
     "name": "stdout",
     "output_type": "stream",
     "text": [
      "34\n"
     ]
    }
   ],
   "source": [
    "#using sorting\n",
    "arr = [12, 35, 1, 10, 34, 1]\n",
    "\n",
    "def second_larget_num_using_sort(nums):\n",
    "    \"\"\"\n",
    "    this can cause index out of bound\n",
    "    \"\"\"\n",
    "    nums.sort()\n",
    "    return nums[-2]\n",
    "\n",
    "\n",
    "print(second_larget_num_using_sort(arr))"
   ]
  },
  {
   "cell_type": "code",
   "execution_count": null,
   "metadata": {},
   "outputs": [
    {
     "name": "stdout",
     "output_type": "stream",
     "text": [
      "34\n"
     ]
    }
   ],
   "source": [
    "#using sorting\n",
    "arr = [12, 35, 1, 10, 34, 1]\n",
    "\n",
    "def second_larget_num_using_sort(nums):\n",
    "    nums.sort()\n",
    "    for i in range(len(nums) - 2,-1,-1):\n",
    "        if nums[i] != nums[i - 1]:\n",
    "            return nums[i]\n",
    "    return -1\n",
    "\n",
    "\n",
    "print(second_larget_num_using_sort(arr))"
   ]
  },
  {
   "cell_type": "code",
   "execution_count": null,
   "metadata": {},
   "outputs": [],
   "source": [
    "#using one pass\n",
    "def second_larget_num_using_sort(nums):\n",
    "    print(nums)\n",
    "\n",
    "\n",
    "print(second_larget_num_using_sort(arr))"
   ]
  }
 ],
 "metadata": {
  "kernelspec": {
   "display_name": "Python 3",
   "language": "python",
   "name": "python3"
  },
  "language_info": {
   "codemirror_mode": {
    "name": "ipython",
    "version": 3
   },
   "file_extension": ".py",
   "mimetype": "text/x-python",
   "name": "python",
   "nbconvert_exporter": "python",
   "pygments_lexer": "ipython3",
   "version": "3.13.2"
  }
 },
 "nbformat": 4,
 "nbformat_minor": 2
}
