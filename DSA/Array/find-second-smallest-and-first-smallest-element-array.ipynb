{
 "cells": [
  {
   "cell_type": "code",
   "execution_count": 1,
   "metadata": {},
   "outputs": [],
   "source": [
    "arr = [111, 13, 25, 9, 34, 1]"
   ]
  },
  {
   "cell_type": "code",
   "execution_count": null,
   "metadata": {},
   "outputs": [
    {
     "name": "stdout",
     "output_type": "stream",
     "text": [
      "sa\n",
      "sa\n",
      "sa\n",
      "sa\n",
      "1 9\n"
     ]
    }
   ],
   "source": [
    "import math\n",
    "\n",
    "def smallestInarray(nums):\n",
    "    s = math.inf\n",
    "    s2 = math.inf\n",
    "    for i in range(len(nums)):\n",
    "        if nums[i] < s:\n",
    "            s2 = s\n",
    "            s = nums[i]\n",
    "        elif nums[i] < s2 and nums[i] != s:\n",
    "            s2 = nums[i]\n",
    "    \n",
    "    if s2 == math.inf:\n",
    "        print(\"no second smallest number\")\n",
    "    \n",
    "    print(s,s2)\n",
    "\n",
    "smallestInarray(arr)"
   ]
  },
  {
   "cell_type": "code",
   "execution_count": null,
   "metadata": {},
   "outputs": [],
   "source": []
  }
 ],
 "metadata": {
  "kernelspec": {
   "display_name": "Python 3",
   "language": "python",
   "name": "python3"
  },
  "language_info": {
   "codemirror_mode": {
    "name": "ipython",
    "version": 3
   },
   "file_extension": ".py",
   "mimetype": "text/x-python",
   "name": "python",
   "nbconvert_exporter": "python",
   "pygments_lexer": "ipython3",
   "version": "3.13.2"
  }
 },
 "nbformat": 4,
 "nbformat_minor": 2
}
