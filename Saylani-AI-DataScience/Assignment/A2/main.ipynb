{
 "cells": [
  {
   "cell_type": "code",
   "execution_count": 3,
   "metadata": {},
   "outputs": [
    {
     "name": "stdout",
     "output_type": "stream",
     "text": [
      "Even\n"
     ]
    }
   ],
   "source": [
    "#Write a program that prompts the user to input a number and display if the number is even or odd.\n",
    "number = float(input(\"Enter number\"))\n",
    "\n",
    "if number %2 == 0:\n",
    "    print(\"Even\")\n",
    "else:\n",
    "    print(\"Odd\")"
   ]
  },
  {
   "cell_type": "code",
   "execution_count": null,
   "metadata": {},
   "outputs": [
    {
     "name": "stdout",
     "output_type": "stream",
     "text": [
      "You are eligible to vote.\n"
     ]
    }
   ],
   "source": [
    "# Write a Python program that takes an age as input and determines whether a person\n",
    "# is eligible to vote. If the age is 18 or above, print \"You are eligible to vote.\" Otherwise,\n",
    "# print \"You are not eligible to vote yet.\".\n",
    "number = int(input(\"Enter age\"))\n",
    "\n",
    "if number >= 18:\n",
    "    print(\"You are eligible to vote.\")\n",
    "else:\n",
    "    print(\"You are not eligible to vote yet.\")"
   ]
  },
  {
   "cell_type": "code",
   "execution_count": 5,
   "metadata": {},
   "outputs": [
    {
     "name": "stdout",
     "output_type": "stream",
     "text": [
      "4\n"
     ]
    }
   ],
   "source": [
    "#Write a program that prompts the user to input two integers and outputs the largest.\n",
    "first_number = int(input(\"Enter first number\"))\n",
    "secound_number = int(input(\"Enter second number\"))\n",
    "print(max(first_number,secound_number))"
   ]
  },
  {
   "cell_type": "code",
   "execution_count": null,
   "metadata": {},
   "outputs": [],
   "source": [
    "# Write a program that prompts the user to enter a number and determines whether it\n",
    "# is positive, negative, or zero. The program should print \"Positive\" if the number is\n",
    "# greater than 0, \"Negative\" if the number is less than 0, and \"Zero\" if the number is 0.\n",
    "number = float(input(\"Enter number\"))\n",
    "\n",
    "if number > 0:\n",
    "    print(\"Positve\")\n",
    "elif number < 0:\n",
    "    print(\"Negative\")\n",
    "else:\n",
    "    print(\"Number is zero.\")"
   ]
  },
  {
   "cell_type": "code",
   "execution_count": 9,
   "metadata": {},
   "outputs": [
    {
     "name": "stdout",
     "output_type": "stream",
     "text": [
      "Teenager\n"
     ]
    }
   ],
   "source": [
    "# Write a program that prompts the user to enter their age and prints the\n",
    "# corresponding age group. The program should use the following age groups:\n",
    "# 0-12: Child\n",
    "# 13-19: Teenager\n",
    "# 20-59: Adult\n",
    "# 60 and above: Senior Citizen\n",
    "number = int(input(\"Enter age\"))\n",
    "\n",
    "if number >= 60:\n",
    "    print(\"Senior Citizen\")\n",
    "elif number >= 20 and number <= 59:\n",
    "    print(\"Adult\")\n",
    "elif number >= 13 and number <= 19:\n",
    "    print(\"Teenager\")\n",
    "else:\n",
    "    print(\"Child\")"
   ]
  },
  {
   "cell_type": "code",
   "execution_count": 10,
   "metadata": {},
   "outputs": [
    {
     "name": "stdout",
     "output_type": "stream",
     "text": [
      "Tursday\n"
     ]
    }
   ],
   "source": [
    "# Write a program that prompts the user to input a number from 1 to 7. The program\n",
    "# should display the corresponding day for the given number. For example, if the user\n",
    "# types 1, the output should be Sunday. If the user types 7, the output should be\n",
    "# Saturday. If the number is not between 1 to 7 user should get error message as shown\n",
    "# in sample output.\n",
    "number = int(input(\"Enter day number\"))\n",
    "\n",
    "if number == 1:\n",
    "    print(\"Monday\")\n",
    "elif number == 2:\n",
    "    print(\"Tuesday\")\n",
    "elif number == 3:\n",
    "    print(\"Wednesday\")\n",
    "elif number == 4:\n",
    "    print(\"Tursday\")\n",
    "elif number == 5:\n",
    "    print(\"Friday\")\n",
    "elif number == 6:\n",
    "    print(\"Saturday\")\n",
    "elif number == 7:\n",
    "    print(\"Sunday\")\n",
    "else:\n",
    "    print(\"Week days are only 7\")"
   ]
  },
  {
   "cell_type": "code",
   "execution_count": null,
   "metadata": {},
   "outputs": [
    {
     "name": "stdout",
     "output_type": "stream",
     "text": [
      "90.0\n"
     ]
    }
   ],
   "source": [
    "# Write a program that prompts the user to enter their weight (in kilograms) and height\n",
    "# (in meters). The program should calculate the Body Mass Index (BMI) using the formula:\n",
    "# BMI = weight / (height * height). The program should then classify the BMI into one of\n",
    "# the following categories:\n",
    "\n",
    "# less than 18.5 - Underweight\n",
    "# BMI between 18.5 and 24.9 - Normal weight\n",
    "# BMI between 25 and 29.9 - Overweight\n",
    "# BMI 30 or greater - Obesity\n",
    "weight = float(input(\"Enter weight\"))\n",
    "height = float(input(\"Enter weight\"))\n",
    "bmi = weight / height*height\n",
    "\n",
    "if bmi >= 30:\n",
    "    print(\"Obesity\")\n",
    "elif bmi >= 25 and bmi <= 29.9:\n",
    "    print(\"Overweight\")\n",
    "elif bmi >= 18.5 and bmi <= 24.9:\n",
    "    print(\"Normal weight\")\n",
    "else:\n",
    "    print(\"Underweight\")"
   ]
  },
  {
   "cell_type": "code",
   "execution_count": null,
   "metadata": {},
   "outputs": [],
   "source": [
    "# The marks obtained by a student in 3 different subjects are input by the user. Your\n",
    "# program should calculate the average of subjects and display the grade. The student\n",
    "# gets a grade as per the following rules:\n",
    "# Average Grade\n",
    "# 90-100 A\n",
    "# 80-89 B\n",
    "# 70-79 C\n",
    "\n",
    "# 60-69 D\n",
    "# 0-59 F\n",
    "\n",
    "number = float(input(\"Enter Grade\"))\n",
    "\n",
    "if number >= 90 and number <= 100:\n",
    "    print(\"A\")\n",
    "elif number >= 80 and number <= 89:\n",
    "    print(\"B\")\n",
    "elif number >= 70 and number <= 79:\n",
    "    print(\"C\")\n",
    "elif number >= 60 and number <= 69:\n",
    "    print(\"D\")\n",
    "elif number >= 0 and number <= 59:\n",
    "    print(\"F\")\n",
    "else:\n",
    "    print(\"number is out of total marks category\")"
   ]
  }
 ],
 "metadata": {
  "kernelspec": {
   "display_name": "Python 3",
   "language": "python",
   "name": "python3"
  },
  "language_info": {
   "codemirror_mode": {
    "name": "ipython",
    "version": 3
   },
   "file_extension": ".py",
   "mimetype": "text/x-python",
   "name": "python",
   "nbconvert_exporter": "python",
   "pygments_lexer": "ipython3",
   "version": "3.13.2"
  }
 },
 "nbformat": 4,
 "nbformat_minor": 2
}
