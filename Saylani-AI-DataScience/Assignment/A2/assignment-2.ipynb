{
 "cells": [
  {
   "cell_type": "code",
   "execution_count": 3,
   "metadata": {},
   "outputs": [
    {
     "name": "stdout",
     "output_type": "stream",
     "text": [
      "Even\n"
     ]
    }
   ],
   "source": [
    "#Write a program that prompts the user to input a number and display if the number is even or odd.\n",
    "number = float(input(\"Enter number\"))\n",
    "\n",
    "if number %2 == 0:\n",
    "    print(\"Even\")\n",
    "else:\n",
    "    print(\"Odd\")"
   ]
  },
  {
   "cell_type": "code",
   "execution_count": null,
   "metadata": {},
   "outputs": [
    {
     "name": "stdout",
     "output_type": "stream",
     "text": [
      "You are eligible to vote.\n"
     ]
    }
   ],
   "source": [
    "# Write a Python program that takes an age as input and determines whether a person\n",
    "# is eligible to vote. If the age is 18 or above, print \"You are eligible to vote.\" Otherwise,\n",
    "# print \"You are not eligible to vote yet.\".\n",
    "number = int(input(\"Enter age\"))\n",
    "\n",
    "if number >= 18:\n",
    "    print(\"You are eligible to vote.\")\n",
    "else:\n",
    "    print(\"You are not eligible to vote yet.\")"
   ]
  },
  {
   "cell_type": "code",
   "execution_count": 5,
   "metadata": {},
   "outputs": [
    {
     "name": "stdout",
     "output_type": "stream",
     "text": [
      "4\n"
     ]
    }
   ],
   "source": [
    "#Write a program that prompts the user to input two integers and outputs the largest.\n",
    "first_number = int(input(\"Enter first number\"))\n",
    "secound_number = int(input(\"Enter second number\"))\n",
    "print(max(first_number,secound_number))"
   ]
  },
  {
   "cell_type": "code",
   "execution_count": null,
   "metadata": {},
   "outputs": [],
   "source": [
    "# Write a program that prompts the user to enter a number and determines whether it\n",
    "# is positive, negative, or zero. The program should print \"Positive\" if the number is\n",
    "# greater than 0, \"Negative\" if the number is less than 0, and \"Zero\" if the number is 0.\n",
    "number = float(input(\"Enter number\"))\n",
    "\n",
    "if number > 0:\n",
    "    print(\"Positve\")\n",
    "elif number < 0:\n",
    "    print(\"Negative\")\n",
    "else:\n",
    "    print(\"Number is zero.\")"
   ]
  },
  {
   "cell_type": "code",
   "execution_count": 9,
   "metadata": {},
   "outputs": [
    {
     "name": "stdout",
     "output_type": "stream",
     "text": [
      "Teenager\n"
     ]
    }
   ],
   "source": [
    "# Write a program that prompts the user to enter their age and prints the\n",
    "# corresponding age group. The program should use the following age groups:\n",
    "# 0-12: Child\n",
    "# 13-19: Teenager\n",
    "# 20-59: Adult\n",
    "# 60 and above: Senior Citizen\n",
    "number = int(input(\"Enter age\"))\n",
    "\n",
    "if number >= 60:\n",
    "    print(\"Senior Citizen\")\n",
    "elif number >= 20 and number <= 59:\n",
    "    print(\"Adult\")\n",
    "elif number >= 13 and number <= 19:\n",
    "    print(\"Teenager\")\n",
    "else:\n",
    "    print(\"Child\")"
   ]
  },
  {
   "cell_type": "code",
   "execution_count": 10,
   "metadata": {},
   "outputs": [
    {
     "name": "stdout",
     "output_type": "stream",
     "text": [
      "Tursday\n"
     ]
    }
   ],
   "source": [
    "# Write a program that prompts the user to input a number from 1 to 7. The program\n",
    "# should display the corresponding day for the given number. For example, if the user\n",
    "# types 1, the output should be Sunday. If the user types 7, the output should be\n",
    "# Saturday. If the number is not between 1 to 7 user should get error message as shown\n",
    "# in sample output.\n",
    "number = int(input(\"Enter day number\"))\n",
    "\n",
    "if number == 1:\n",
    "    print(\"Monday\")\n",
    "elif number == 2:\n",
    "    print(\"Tuesday\")\n",
    "elif number == 3:\n",
    "    print(\"Wednesday\")\n",
    "elif number == 4:\n",
    "    print(\"Tursday\")\n",
    "elif number == 5:\n",
    "    print(\"Friday\")\n",
    "elif number == 6:\n",
    "    print(\"Saturday\")\n",
    "elif number == 7:\n",
    "    print(\"Sunday\")\n",
    "else:\n",
    "    print(\"Week days are only 7\")"
   ]
  },
  {
   "cell_type": "code",
   "execution_count": null,
   "metadata": {},
   "outputs": [
    {
     "name": "stdout",
     "output_type": "stream",
     "text": [
      "90.0\n"
     ]
    }
   ],
   "source": [
    "# Write a program that prompts the user to enter their weight (in kilograms) and height\n",
    "# (in meters). The program should calculate the Body Mass Index (BMI) using the formula:\n",
    "# BMI = weight / (height * height). The program should then classify the BMI into one of\n",
    "# the following categories:\n",
    "\n",
    "# less than 18.5 - Underweight\n",
    "# BMI between 18.5 and 24.9 - Normal weight\n",
    "# BMI between 25 and 29.9 - Overweight\n",
    "# BMI 30 or greater - Obesity\n",
    "weight = float(input(\"Enter weight\"))\n",
    "height = float(input(\"Enter weight\"))\n",
    "bmi = weight / height*height\n",
    "\n",
    "if bmi >= 30:\n",
    "    print(\"Obesity\")\n",
    "elif bmi >= 25 and bmi <= 29.9:\n",
    "    print(\"Overweight\")\n",
    "elif bmi >= 18.5 and bmi <= 24.9:\n",
    "    print(\"Normal weight\")\n",
    "else:\n",
    "    print(\"Underweight\")"
   ]
  },
  {
   "cell_type": "code",
   "execution_count": null,
   "metadata": {},
   "outputs": [],
   "source": [
    "# The marks obtained by a student in 3 different subjects are input by the user. Your\n",
    "# program should calculate the average of subjects and display the grade. The student\n",
    "# gets a grade as per the following rules:\n",
    "# Average Grade\n",
    "# 90-100 A\n",
    "# 80-89 B\n",
    "# 70-79 C\n",
    "\n",
    "# 60-69 D\n",
    "# 0-59 F\n",
    "\n",
    "number = float(input(\"Enter Grade\"))\n",
    "\n",
    "if number >= 90 and number <= 100:\n",
    "    print(\"A\")\n",
    "elif number >= 80 and number <= 89:\n",
    "    print(\"B\")\n",
    "elif number >= 70 and number <= 79:\n",
    "    print(\"C\")\n",
    "elif number >= 60 and number <= 69:\n",
    "    print(\"D\")\n",
    "elif number >= 0 and number <= 59:\n",
    "    print(\"F\")\n",
    "else:\n",
    "    print(\"number is out of total marks category\")"
   ]
  },
  {
   "cell_type": "code",
   "execution_count": 1,
   "metadata": {},
   "outputs": [
    {
     "name": "stdout",
     "output_type": "stream",
     "text": [
      "-27.0\n",
      "Two complex roots: -0.50+0.87j and -0.50-0.87j\n"
     ]
    }
   ],
   "source": [
    "# The roots of the quadratic equation ax2 + bx + c = 0, a ≠ 0 are given by the following\n",
    "# formula:\n",
    "# In this formula, the term b2\n",
    "# - 4ac is called the discriminant. If b2\n",
    "# - 4ac = 0, then the\n",
    "# equation has two equal roots.\n",
    "# If b2\n",
    "# - 4ac > 0, the equation has two real roots. If b2\n",
    "# - 4ac < 0, the equation has two\n",
    "# complex roots.\n",
    "# Write a program that prompts the user to input the value of a (the coefficient of x2 ), b\n",
    "# (the coefficient of x), and c (the constant term) and outputs the roots of the quadratic\n",
    "# equation.\n",
    "import cmath\n",
    "\n",
    "a = float(input(\"Enter a\"))\n",
    "b = float(input(\"Enter b\"))\n",
    "c = float(input(\"Enter c\"))\n",
    "\n",
    "if a == 0:\n",
    "    print(\"The value of 'a' cannot be zero. Please enter a non-zero value for 'a'.\")\n",
    "else:\n",
    "    d = b**2 - 4*a*c\n",
    "    print(d)\n",
    "    if d > 0:\n",
    "        root1 = (-b + cmath.sqrt(d)) / (2*a)\n",
    "        root2 = (-b - cmath.sqrt(d)) / (2*a)\n",
    "        print(\"Two real roots: {:.2f} and {:.2f}\".format(root1.real, root2.real))\n",
    "    elif d == 0:\n",
    "        root = -b / (2*a)\n",
    "        print(\"Two equal roots: {:.2f}\".format(root))\n",
    "    else:\n",
    "        root1 = (-b + cmath.sqrt(d)) / (2*a)\n",
    "        root2 = (-b - cmath.sqrt(d)) / (2*a)\n",
    "        print(\"Two complex roots: {:.2f} and {:.2f}\".format(root1, root2))"
   ]
  },
  {
   "cell_type": "code",
   "execution_count": 2,
   "metadata": {},
   "outputs": [
    {
     "name": "stdout",
     "output_type": "stream",
     "text": [
      "Sorted numbers: [1.0, 2.0, 3.0]\n"
     ]
    }
   ],
   "source": [
    "# Write a program that prompts the user to enter three numbers and sorts them in\n",
    "# ascending order. The program should print the sorted numbers.\n",
    "\n",
    "# Prompt the user to enter three numbers\n",
    "num1 = float(input(\"Enter first number: \"))\n",
    "num2 = float(input(\"Enter second number: \"))\n",
    "num3 = float(input(\"Enter third number: \"))\n",
    "\n",
    "numbers = [num1, num2, num3]\n",
    "numbers.sort()\n",
    "print(\"Sorted numbers:\", numbers)"
   ]
  },
  {
   "cell_type": "code",
   "execution_count": null,
   "metadata": {},
   "outputs": [],
   "source": [
    "# Write a program that prompts the user to input three integers and outputs the\n",
    "# largest.\n",
    "\n",
    "num1 = int(input(\"Enter first number: \"))\n",
    "num2 = int(input(\"Enter second number: \"))\n",
    "num3 = int(input(\"Enter third number: \"))\n",
    "print(\"Largest number:\", max(num1, num2, num3))"
   ]
  },
  {
   "cell_type": "code",
   "execution_count": null,
   "metadata": {},
   "outputs": [],
   "source": [
    "# Write a program that prompts the user to input a character and determine the\n",
    "# character is vowel or consonant.\n",
    "\n",
    "char = input(\"Enter a character: \")\n",
    "print(\"Vowel\" if char in \"aeiouAEIOU\" else \"Consonant\")"
   ]
  },
  {
   "cell_type": "code",
   "execution_count": null,
   "metadata": {},
   "outputs": [],
   "source": [
    "# Write a program that prompts the user to input a year and determine whether the\n",
    "# year is a leap year or not.\n",
    "# Leap Years are any year that can be evenly divided by 4. A year that is evenly divisible by\n",
    "# 100 is a leap year only if it is also evenly divisible by 400. Example:\n",
    "# 1992 Leap Year\n",
    "# 2000 Leap Year\n",
    "# 1900 NOT a Leap Year\n",
    "# 1995 NOT a Leap Year\n",
    "\n",
    "year = int(input(\"Enter a year: \"))\n",
    "if (year % 4 == 0 and year % 100 != 0) or (year % 400 == 0):\n",
    "    print(\"Leap Year\")\n",
    "else:\n",
    "    print(\"Not a Leap Year\")"
   ]
  },
  {
   "cell_type": "code",
   "execution_count": 4,
   "metadata": {},
   "outputs": [
    {
     "name": "stdout",
     "output_type": "stream",
     "text": [
      "Monthly telephone bill: Rs. 295.0\n"
     ]
    }
   ],
   "source": [
    "# Write a program that prompts the user to input number of calls and calculate the\n",
    "# monthly telephone bills as per the following rule:\n",
    "# Minimum Rs. 200 for up to 100 calls.\n",
    "# Plus Rs. 0.60 per call for next 50 calls.\n",
    "# Plus Rs. 0.50 per call for next 50 calls.\n",
    "# Plus Rs. 0.40 per call for any call beyond 200 calls.\n",
    "\n",
    "calls = int(input(\"Enter number of calls: \"))\n",
    "bill = 200\n",
    "if calls > 100:\n",
    "    bill += 0.60 * min(50, calls - 100)\n",
    "if calls > 150:\n",
    "    bill += 0.50 * min(50, calls - 150)\n",
    "if calls > 200:\n",
    "    bill += 0.40 * (calls - 200)\n",
    "print(\"Monthly telephone bill: Rs.\", bill)"
   ]
  }
 ],
 "metadata": {
  "kernelspec": {
   "display_name": "Python 3",
   "language": "python",
   "name": "python3"
  },
  "language_info": {
   "codemirror_mode": {
    "name": "ipython",
    "version": 3
   },
   "file_extension": ".py",
   "mimetype": "text/x-python",
   "name": "python",
   "nbconvert_exporter": "python",
   "pygments_lexer": "ipython3",
   "version": "3.13.2"
  }
 },
 "nbformat": 4,
 "nbformat_minor": 2
}
