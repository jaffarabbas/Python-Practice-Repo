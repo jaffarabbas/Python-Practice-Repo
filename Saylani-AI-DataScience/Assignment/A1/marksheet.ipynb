{
 "cells": [
  {
   "cell_type": "code",
   "execution_count": null,
   "metadata": {},
   "outputs": [],
   "source": [
    "programming = \"programming\"\n",
    "networking = \"networking\"\n",
    "english =\"english\"\n",
    "pScore = 80\n",
    "nScore = 60\n",
    "eScore = 70\n",
    "outOfScore = 300\n",
    "sumOfAllSubject = pScore + nScore + eScore\n",
    "totalPercentage= sumOfAllSubject / outOfScore * 100\n",
    "grade = \"\"\n",
    "if totalPercentage > 80:\n",
    "    grade = \"A\"\n",
    "elif totalPercentage <= 80 and totalPercentage <= 70:\n",
    "    grade = \"B\"\n",
    "elif totalPercentage < 70 and totalPercentage <= 50:\n",
    "    grade = \"C\"\n",
    "else:\n",
    "    grade = \"F\"\n",
    "print(f\"\"\"\n",
    "====================================\n",
    "Subjects\\t\\t\\tMarks\n",
    "------------------------------------\n",
    "{programming}\\t\\t\\t{pScore}\n",
    "------------------------------------\n",
    "{networking}\\t\\t\\t{nScore}\n",
    "------------------------------------\n",
    "{english}\\t\\t\\t\\t{eScore}\n",
    "------------------------------------\n",
    "Total Percentage\\t\\t{totalPercentage}\n",
    "------------------------------------\n",
    "Grade\\t\\t\\t\\t{grade}\n",
    "====================================\n",
    "\"\"\")"
   ]
  }
 ],
 "metadata": {
  "language_info": {
   "name": "python"
  }
 },
 "nbformat": 4,
 "nbformat_minor": 2
}
